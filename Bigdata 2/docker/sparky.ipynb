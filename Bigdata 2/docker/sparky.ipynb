{
 "cells": [
  {
   "cell_type": "code",
   "execution_count": 1,
   "id": "1ff0fcc5-2a00-46fb-831f-8344c53a02b3",
   "metadata": {},
   "outputs": [
    {
     "name": "stdout",
     "output_type": "stream",
     "text": [
      "3.5.0\n"
     ]
    }
   ],
   "source": [
    "import pyspark\n",
    "from pyspark.sql import SparkSession\n",
    "from pyspark.ml.feature import StringIndexer, VectorAssembler\n",
    "from pyspark.ml.classification import DecisionTreeClassifier\n",
    "from pyspark.ml.evaluation import MulticlassClassificationEvaluator\n",
    "\n",
    "print(pyspark.__version__)"
   ]
  },
  {
   "cell_type": "code",
   "execution_count": 2,
   "id": "462a4fca-4541-49e2-9912-e5e3ce6167ee",
   "metadata": {},
   "outputs": [
    {
     "name": "stdout",
     "output_type": "stream",
     "text": [
      "+-----+---------+-----------+---------+-------+----+---------------+------------+---------+----------+-----------+----------+------------------------+------------------------+----------------------+----------------------+---------+----------+-----------+---------+-----------------+----------+-------+\n",
      "|class|cap-shape|cap-surface|cap-color|bruises|odor|gill-attachment|gill-spacing|gill-size|gill-color|stalk-shape|stalk-root|stalk-surface-above-ring|stalk-surface-below-ring|stalk-color-above-ring|stalk-color-below-ring|veil-type|veil-color|ring-number|ring-type|spore-print-color|population|habitat|\n",
      "+-----+---------+-----------+---------+-------+----+---------------+------------+---------+----------+-----------+----------+------------------------+------------------------+----------------------+----------------------+---------+----------+-----------+---------+-----------------+----------+-------+\n",
      "|    p|        x|          s|        n|      t|   p|              f|           c|        n|         k|          e|         e|                       s|                       s|                     w|                     w|        p|         w|          o|        p|                k|         s|      u|\n",
      "|    e|        x|          s|        y|      t|   a|              f|           c|        b|         k|          e|         c|                       s|                       s|                     w|                     w|        p|         w|          o|        p|                n|         n|      g|\n",
      "|    e|        b|          s|        w|      t|   l|              f|           c|        b|         n|          e|         c|                       s|                       s|                     w|                     w|        p|         w|          o|        p|                n|         n|      m|\n",
      "|    p|        x|          y|        w|      t|   p|              f|           c|        n|         n|          e|         e|                       s|                       s|                     w|                     w|        p|         w|          o|        p|                k|         s|      u|\n",
      "|    e|        x|          s|        g|      f|   n|              f|           w|        b|         k|          t|         e|                       s|                       s|                     w|                     w|        p|         w|          o|        e|                n|         a|      g|\n",
      "+-----+---------+-----------+---------+-------+----+---------------+------------+---------+----------+-----------+----------+------------------------+------------------------+----------------------+----------------------+---------+----------+-----------+---------+-----------------+----------+-------+\n",
      "only showing top 5 rows\n",
      "\n",
      "root\n",
      " |-- class: string (nullable = true)\n",
      " |-- cap-shape: string (nullable = true)\n",
      " |-- cap-surface: string (nullable = true)\n",
      " |-- cap-color: string (nullable = true)\n",
      " |-- bruises: string (nullable = true)\n",
      " |-- odor: string (nullable = true)\n",
      " |-- gill-attachment: string (nullable = true)\n",
      " |-- gill-spacing: string (nullable = true)\n",
      " |-- gill-size: string (nullable = true)\n",
      " |-- gill-color: string (nullable = true)\n",
      " |-- stalk-shape: string (nullable = true)\n",
      " |-- stalk-root: string (nullable = true)\n",
      " |-- stalk-surface-above-ring: string (nullable = true)\n",
      " |-- stalk-surface-below-ring: string (nullable = true)\n",
      " |-- stalk-color-above-ring: string (nullable = true)\n",
      " |-- stalk-color-below-ring: string (nullable = true)\n",
      " |-- veil-type: string (nullable = true)\n",
      " |-- veil-color: string (nullable = true)\n",
      " |-- ring-number: string (nullable = true)\n",
      " |-- ring-type: string (nullable = true)\n",
      " |-- spore-print-color: string (nullable = true)\n",
      " |-- population: string (nullable = true)\n",
      " |-- habitat: string (nullable = true)\n",
      "\n"
     ]
    }
   ],
   "source": [
    "# Initialiser la session Spark\n",
    "spark = SparkSession.builder.appName(\"Practice\").getOrCreate()\n",
    "\n",
    "# Lire le fichier CSV\n",
    "df_pyspark = spark.read.csv(\"mushroom.csv\", inferSchema=True, header=True)\n",
    "\n",
    "# Afficher les premières lignes et le schéma\n",
    "df_pyspark.show(5)\n",
    "df_pyspark.printSchema()"
   ]
  },
  {
   "cell_type": "code",
   "execution_count": 3,
   "id": "2d8d7b50-fe7e-477b-b504-3eab1ffabea4",
   "metadata": {},
   "outputs": [
    {
     "name": "stdout",
     "output_type": "stream",
     "text": [
      "+-------------+-----------------+-------------------+-----------------+---------------+------------+-----------------------+--------------------+-----------------+------------------+-------------------+------------------+--------------------------------+--------------------------------+------------------------------+------------------------------+-----------------+------------------+-------------------+-----------------+-------------------------+------------------+---------------+--------------------+\n",
      "|class_encoded|cap-shape_encoded|cap-surface_encoded|cap-color_encoded|bruises_encoded|odor_encoded|gill-attachment_encoded|gill-spacing_encoded|gill-size_encoded|gill-color_encoded|stalk-shape_encoded|stalk-root_encoded|stalk-surface-above-ring_encoded|stalk-surface-below-ring_encoded|stalk-color-above-ring_encoded|stalk-color-below-ring_encoded|veil-type_encoded|veil-color_encoded|ring-number_encoded|ring-type_encoded|spore-print-color_encoded|population_encoded|habitat_encoded|            features|\n",
      "+-------------+-----------------+-------------------+-----------------+---------------+------------+-----------------------+--------------------+-----------------+------------------+-------------------+------------------+--------------------------------+--------------------------------+------------------------------+------------------------------+-----------------+------------------+-------------------+-----------------+-------------------------+------------------+---------------+--------------------+\n",
      "|            1|                0|                  1|                0|              1|           6|                      0|                   0|                1|                 7|                  1|                 2|                               0|                               0|                             0|                             0|                0|                 0|                  0|                0|                        2|                 2|              4|(22,[1,3,4,7,8,9,...|\n",
      "|            0|                0|                  1|                3|              1|           4|                      0|                   0|                0|                 7|                  1|                 3|                               0|                               0|                             0|                             0|                0|                 0|                  0|                0|                        1|                 3|              1|(22,[1,2,3,4,8,9,...|\n",
      "|            0|                3|                  1|                4|              1|           5|                      0|                   0|                0|                 3|                  1|                 3|                               0|                               0|                             0|                             0|                0|                 0|                  0|                0|                        1|                 3|              5|(22,[0,1,2,3,4,8,...|\n",
      "|            1|                0|                  0|                4|              1|           6|                      0|                   0|                1|                 3|                  1|                 2|                               0|                               0|                             0|                             0|                0|                 0|                  0|                0|                        2|                 2|              4|(22,[2,3,4,7,8,9,...|\n",
      "|            0|                0|                  1|                1|              0|           0|                      0|                   1|                0|                 7|                  0|                 2|                               0|                               0|                             0|                             0|                0|                 0|                  0|                1|                        1|                 4|              1|(22,[1,2,6,8,10,1...|\n",
      "+-------------+-----------------+-------------------+-----------------+---------------+------------+-----------------------+--------------------+-----------------+------------------+-------------------+------------------+--------------------------------+--------------------------------+------------------------------+------------------------------+-----------------+------------------+-------------------+-----------------+-------------------------+------------------+---------------+--------------------+\n",
      "only showing top 5 rows\n",
      "\n",
      "root\n",
      " |-- class_encoded: integer (nullable = true)\n",
      " |-- cap-shape_encoded: integer (nullable = true)\n",
      " |-- cap-surface_encoded: integer (nullable = true)\n",
      " |-- cap-color_encoded: integer (nullable = true)\n",
      " |-- bruises_encoded: integer (nullable = true)\n",
      " |-- odor_encoded: integer (nullable = true)\n",
      " |-- gill-attachment_encoded: integer (nullable = true)\n",
      " |-- gill-spacing_encoded: integer (nullable = true)\n",
      " |-- gill-size_encoded: integer (nullable = true)\n",
      " |-- gill-color_encoded: integer (nullable = true)\n",
      " |-- stalk-shape_encoded: integer (nullable = true)\n",
      " |-- stalk-root_encoded: integer (nullable = true)\n",
      " |-- stalk-surface-above-ring_encoded: integer (nullable = true)\n",
      " |-- stalk-surface-below-ring_encoded: integer (nullable = true)\n",
      " |-- stalk-color-above-ring_encoded: integer (nullable = true)\n",
      " |-- stalk-color-below-ring_encoded: integer (nullable = true)\n",
      " |-- veil-type_encoded: integer (nullable = true)\n",
      " |-- veil-color_encoded: integer (nullable = true)\n",
      " |-- ring-number_encoded: integer (nullable = true)\n",
      " |-- ring-type_encoded: integer (nullable = true)\n",
      " |-- spore-print-color_encoded: integer (nullable = true)\n",
      " |-- population_encoded: integer (nullable = true)\n",
      " |-- habitat_encoded: integer (nullable = true)\n",
      " |-- features: vector (nullable = true)\n",
      "\n"
     ]
    }
   ],
   "source": [
    "# Nettoyage des données\n",
    "categoricalColumns = df_pyspark.columns\n",
    "for categoricalCol in categoricalColumns:\n",
    "    stringIndexer = StringIndexer(inputCol=categoricalCol, outputCol=categoricalCol + \"_encoded\").fit(df_pyspark)\n",
    "    df_pyspark = stringIndexer.transform(df_pyspark)\n",
    "    df_pyspark = df_pyspark.withColumn(categoricalCol + \"_encoded\", df_pyspark[categoricalCol + \"_encoded\"].cast('int'))\n",
    "\n",
    "encoded_df = df_pyspark.select([x + \"_encoded\" for x in categoricalColumns])\n",
    "\n",
    "# Assemblage des features\n",
    "featureAssembler = VectorAssembler(inputCols=[x + \"_encoded\" for x in categoricalColumns[1:]], outputCol=\"features\")\n",
    "output = featureAssembler.transform(encoded_df)\n",
    "\n",
    "\n",
    "# Afficher les premières lignes et le schéma\n",
    "output.show(5)\n",
    "output.printSchema()"
   ]
  },
  {
   "cell_type": "code",
   "execution_count": 4,
   "id": "46d0a8e6-b51e-4abb-82b8-33de191d6b25",
   "metadata": {},
   "outputs": [
    {
     "name": "stdout",
     "output_type": "stream",
     "text": [
      "Données Train :  6471\n",
      "Données Test :  1653\n"
     ]
    }
   ],
   "source": [
    "# Séparer les données en train et test\n",
    "train, test = output.randomSplit([0.8, 0.2], seed=17)\n",
    "\n",
    "print(\"Données Train : \", train.count())\n",
    "print(\"Données Test : \", test.count())"
   ]
  },
  {
   "cell_type": "code",
   "execution_count": 5,
   "id": "cb4aec8a-58c3-4477-b172-17b59b745295",
   "metadata": {},
   "outputs": [
    {
     "name": "stdout",
     "output_type": "stream",
     "text": [
      "TEST AREA UNDER ROC :  0.9872947089637973\n"
     ]
    }
   ],
   "source": [
    "# Entraîner le modèle avec un arbre de décision\n",
    "dt = DecisionTreeClassifier(featuresCol='features', labelCol='class_encoded', maxDepth=3)\n",
    "dtModel = dt.fit(train)\n",
    "\n",
    "# Prédictions\n",
    "predictions = dtModel.transform(test)\n",
    "\n",
    "# Évaluation des performances\n",
    "evaluator = MulticlassClassificationEvaluator(labelCol=\"class_encoded\", predictionCol=\"prediction\")\n",
    "accuracy = evaluator.evaluate(predictions)\n",
    "print(\"TEST AREA UNDER ROC : \", accuracy)"
   ]
  },
  {
   "cell_type": "code",
   "execution_count": 6,
   "id": "e3958d7b-be68-4764-a6e3-20fd263ee648",
   "metadata": {},
   "outputs": [],
   "source": [
    "# Enregistrer le modèle d'arbre de décision\n",
    "model_path = \"decision_tree_model\"\n",
    "dtModel.write().overwrite().save(model_path)"
   ]
  },
  {
   "cell_type": "code",
   "execution_count": 7,
   "id": "f6cf6b83-1558-4b6d-ba6c-37153d8ecf2b",
   "metadata": {},
   "outputs": [],
   "source": [
    "# Arrêter la session Spark\n",
    "spark.stop()"
   ]
  },
  {
   "cell_type": "code",
   "execution_count": null,
   "id": "6881af7c-b80e-4da7-bb80-1be4a42d901f",
   "metadata": {},
   "outputs": [],
   "source": []
  }
 ],
 "metadata": {
  "kernelspec": {
   "display_name": "Python 3 (ipykernel)",
   "language": "python",
   "name": "python3"
  },
  "language_info": {
   "codemirror_mode": {
    "name": "ipython",
    "version": 3
   },
   "file_extension": ".py",
   "mimetype": "text/x-python",
   "name": "python",
   "nbconvert_exporter": "python",
   "pygments_lexer": "ipython3",
   "version": "3.11.6"
  }
 },
 "nbformat": 4,
 "nbformat_minor": 5
}
