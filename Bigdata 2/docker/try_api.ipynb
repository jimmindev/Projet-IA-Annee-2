{
 "cells": [
  {
   "cell_type": "code",
   "execution_count": 12,
   "id": "8bc7e1bb-aaf5-49ff-8abb-2dff5ad7f6de",
   "metadata": {},
   "outputs": [
    {
     "name": "stdout",
     "output_type": "stream",
     "text": [
      "Prédictions : {'predictions': [1.0]}\n"
     ]
    }
   ],
   "source": [
    "import requests\n",
    "\n",
    "# Exemple de données pour une prédiction\n",
    "data = [\n",
    "    {\n",
    "        \"cap-shape_encoded\": 1,\n",
    "        \"cap-surface_encoded\": 0,\n",
    "        \"cap-color_encoded\": 4,\n",
    "        \"bruises_encoded\": 1,\n",
    "        \"odor_encoded\": 2,\n",
    "    },\n",
    "]\n",
    "\n",
    "# Envoyer une requête POST à l'API\n",
    "response = requests.post(\"http://localhost:5050/predict\", json=data)\n",
    "\n",
    "# Afficher les prédictions\n",
    "if response.status_code == 200:\n",
    "    predictions = response.json()\n",
    "    print(\"Prédictions :\", predictions)\n",
    "else:\n",
    "    print(\"Erreur :\", response.json())\n"
   ]
  },
  {
   "cell_type": "code",
   "execution_count": null,
   "id": "a4620bf3-a625-4ac8-b563-9b7b3c6a15a5",
   "metadata": {},
   "outputs": [],
   "source": []
  }
 ],
 "metadata": {
  "kernelspec": {
   "display_name": "Python 3 (ipykernel)",
   "language": "python",
   "name": "python3"
  },
  "language_info": {
   "codemirror_mode": {
    "name": "ipython",
    "version": 3
   },
   "file_extension": ".py",
   "mimetype": "text/x-python",
   "name": "python",
   "nbconvert_exporter": "python",
   "pygments_lexer": "ipython3",
   "version": "3.11.6"
  }
 },
 "nbformat": 4,
 "nbformat_minor": 5
}
